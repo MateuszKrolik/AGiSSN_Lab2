{
 "cells": [
  {
   "metadata": {},
   "cell_type": "markdown",
   "source": [
    "Zadanie 1. Wykonac wykres funkcji z wyktadu g(x) = (x^2 - 4x + 3)^2\n",
    "na przedziale [0,4]\n",
    "korzystajac z matplotlib w notatniku Jupyter."
   ],
   "id": "8a77807f92f26ee"
  },
  {
   "metadata": {
    "ExecuteTime": {
     "end_time": "2024-10-22T11:00:38.603381Z",
     "start_time": "2024-10-22T11:00:38.515985Z"
    }
   },
   "cell_type": "code",
   "source": [
    "import matplotlib.pyplot as plt\n",
    "import numpy as np\n",
    "\n",
    "x = np.linspace(0,4)\n",
    "\n",
    "y = ((x**2) - (4*x) + 3)**2\n",
    "\n",
    "plt.plot(x,y)"
   ],
   "id": "fbc121e30a2defb3",
   "outputs": [
    {
     "data": {
      "text/plain": [
       "[<matplotlib.lines.Line2D at 0x11605c920>]"
      ]
     },
     "execution_count": 5,
     "metadata": {},
     "output_type": "execute_result"
    },
    {
     "data": {
      "text/plain": [
       "<Figure size 640x480 with 1 Axes>"
      ],
      "image/png": "[encoded data removed]"
     },
     "metadata": {},
     "output_type": "display_data"
    }
   ],
   "execution_count": 5
  },
  {
   "metadata": {},
   "cell_type": "markdown",
   "source": [
    "Zadanie 2. Napisac funkcje dekodujaca ciag wartosci binarnych (podawanych w tablicy Numpy)\n",
    "na wartosc dziesietna w taki sposób, ze:\n",
    "• pierwsza wartosc binarna koduje znak (1 oznacza „-\", 0 oznacza „+\"),\n",
    "• kolejne wartosci binarne opisuja modut liczby w naturalnym kodzie binarnym.\n",
    "\n",
    "Przyklad: ciag wartosci binarnych o dlugosci 6: 101011. Pierwsza wartos „1\" oznacza znak „-\" natomiast kolejne wartosci:\n",
    "01011 (binarnie) = (0 * 2^4 + 1 + 0 * 2^2 + 1 * 2^1 + 1 - * 2^0) (dziesietnie) = 11 (dzisietnie).\n",
    "Zatem ciag bitów 101011 koduje liczbe -11 (w zapisie dziesietnym)."
   ],
   "id": "31c6ea8780ceb2fc"
  },
  {
   "metadata": {
    "ExecuteTime": {
     "end_time": "2024-10-22T12:46:00.630503Z",
     "start_time": "2024-10-22T12:46:00.626948Z"
    }
   },
   "cell_type": "code",
   "source": [
    "bin_num = [\"1\",\"1\",\"1\",\"1\"] # -7\n",
    "\n",
    "def bin_to_dec(arr)->int:\n",
    "    total = 0\n",
    "    power = 0    \n",
    "    for i in range(len(arr)-1,0,-1):\n",
    "        if arr[i] == \"1\":\n",
    "            total+=2**power\n",
    "        power+=1\n",
    "    if arr[0]==\"1\":\n",
    "        total = -total\n",
    "    return total\n",
    "\n",
    "print(bin_to_dec(bin_num))"
   ],
   "id": "bac91109c50125e0",
   "outputs": [
    {
     "name": "stdout",
     "output_type": "stream",
     "text": [
      "-7\n"
     ]
    }
   ],
   "execution_count": 28
  },
  {
   "metadata": {},
   "cell_type": "markdown",
   "source": [
    "Zadanie 3. Na podstawie powyzszej funkcji utwórz zmodyfikowana funkcje, w której:\n",
    "• w podawanej tablicy Numpy nie ma kodowanego znaku - caty ciag binarny opisuje wartosc\n",
    "(nieujemna) w kodzie binarnym,\n",
    "• funkcja ma dwa dodatkowe parametry: a i b.\n",
    "Liczba x zwracana prez funkcje ma byé liczba z predzialu ciaglego [a, b], proporcionalna do\n",
    "wartosci c reprezentowanej przez ciag bitów, tj.:\n",
    "\n",
    "x = a + (c/(2^k - 1))(b-a)"
   ],
   "id": "de98c0707d5526bd"
  },
  {
   "metadata": {
    "ExecuteTime": {
     "end_time": "2024-10-22T12:53:45.946321Z",
     "start_time": "2024-10-22T12:53:45.943344Z"
    }
   },
   "cell_type": "code",
   "source": [
    "bin_num = [1,0,0,0, 0, 0] # 32\n",
    "a1 = 0\n",
    "b1 = 4\n",
    "def bin_to_dec(arr, a , b)->int:\n",
    "    c = 0\n",
    "    power = 0    \n",
    "    for i in range(len(arr)-1,-1,-1):\n",
    "        if arr[i] == 1:\n",
    "            c+=2**power\n",
    "        power+=1\n",
    "        \n",
    "    x = a + c/((((2**len(arr))-1)))*(b-a)\n",
    "    return x\n",
    "print(bin_to_dec(bin_num,a1,b1))"
   ],
   "id": "bde068fc39fd4d69",
   "outputs": [
    {
     "name": "stdout",
     "output_type": "stream",
     "text": [
      "2.0317460317460316\n"
     ]
    }
   ],
   "execution_count": 36
  }
 ],
 "metadata": {
  "kernelspec": {
   "display_name": "Python 3",
   "language": "python",
   "name": "python3"
  },
  "language_info": {
   "codemirror_mode": {
    "name": "ipython",
    "version": 2
   },
   "file_extension": ".py",
   "mimetype": "text/x-python",
   "name": "python",
   "nbconvert_exporter": "python",
   "pygments_lexer": "ipython2",
   "version": "2.7.6"
  }
 },
 "nbformat": 4,
 "nbformat_minor": 5
}
